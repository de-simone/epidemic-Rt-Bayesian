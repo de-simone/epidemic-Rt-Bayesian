{
 "cells": [
  {
   "cell_type": "code",
   "execution_count": 1,
   "metadata": {
    "ExecuteTime": {
     "end_time": "2020-05-03T17:22:34.299415Z",
     "start_time": "2020-05-03T17:22:34.295468Z"
    },
    "collapsed": true
   },
   "outputs": [],
   "source": [
    "import numpy as np\n",
    "import pandas as pd\n",
    "from scipy import stats\n",
    "from scipy.special import gamma, gammaincc\n",
    "import matplotlib.pyplot as plt"
   ]
  },
  {
   "cell_type": "markdown",
   "metadata": {
    "ExecuteTime": {
     "end_time": "2020-05-03T17:00:14.866596Z",
     "start_time": "2020-05-03T17:00:14.862825Z"
    }
   },
   "source": [
    "# Functions"
   ]
  },
  {
   "cell_type": "code",
   "execution_count": 2,
   "metadata": {
    "ExecuteTime": {
     "end_time": "2020-05-03T17:07:49.841515Z",
     "start_time": "2020-05-03T17:07:49.821334Z"
    },
    "collapsed": true
   },
   "outputs": [],
   "source": [
    "def indicator(a,b,x):\n",
    "    \"\"\"\n",
    "    indicator function in 1 dimension over the interval [xmin,xmax]\n",
    "    \"\"\"\n",
    "    return(np.where(np.logical_or(x<a, x>=b),0,1).astype(np.float128))\n",
    "\n",
    "def uniform_pdf(a,b,x):\n",
    "    \"\"\"\n",
    "    discrete uniform pdf in [a,b]\n",
    "    \"\"\"\n",
    "    a_int = int(a)\n",
    "    b_int = int(b)\n",
    "    return( indicator(a_int,b_int,x)/(b_int-a_int) )\n",
    "\n",
    "def gamma_pdf(a,b,x):\n",
    "    \"\"\"\n",
    "    Gamma distribution with shape parameter a, scale parameter b\n",
    "    mean = a*b\n",
    "    variance = a*b^2\n",
    "    or \n",
    "    a = mean^2/sigma^2\n",
    "    b = sigma^2/mean\n",
    "    \"\"\"\n",
    "    return( (np.power(x,a-1)*np.exp(-x/b)/(gamma(a)*np.power(b,a))).astype(np.float128) )\n",
    "\n",
    "def gamma_regularized(a,x):\n",
    "    \"\"\"\n",
    "    Regularized incomplete upper gamma function Q(a,x)\n",
    "    \"\"\"\n",
    "    if a>0:\n",
    "        return(gammaincc( a,x ).astype(np.float128))\n",
    "    else:\n",
    "        return( np.zeros(x.shape[0]) )\n",
    "    \n",
    "'''\n",
    "def normal_pdf(mean,var,x):\n",
    "    \"\"\"\n",
    "    Normal\n",
    "    \"\"\"\n",
    "    return(((1/np.sqrt(2*np.pi*var))\n",
    "            *np.exp(-np.power(x-mean,2)/(2*var))).astype(np.float128))\n",
    "'''\n",
    "\n",
    "def normalize( f, xstep ):\n",
    "    \"\"\"\n",
    "    normalize function f to integrate to 1 \n",
    "    \"\"\"\n",
    "    norm = np.trapz(f, dx=xstep)\n",
    "    #norm = np.sum(f)*DR\n",
    "    \n",
    "    if norm != 0:\n",
    "        return(f/norm)\n",
    "    else:\n",
    "        print(\"invalid normalization\")\n",
    "        return(None)\n",
    "        \n",
    "def compute_posterior( prior, likelihood, xstep ):\n",
    "    if prior is not None and likelihood is not None:\n",
    "        posterior = normalize(prior*likelihood, xstep)    \n",
    "        return( posterior )\n",
    "    else:\n",
    "        return(None)\n",
    "\n",
    "\n",
    "def percentile(f, q, xrange, xstep):\n",
    "    \"\"\"\n",
    "    compute the q-th percentile (q in [0,1]) of sampled function 'f'\n",
    "    over range 'xrange' with step 'xstep'\n",
    "    \"\"\"\n",
    "    if( q<=0 or q>1 ):\n",
    "        print(\"Invalid q\")\n",
    "        return\n",
    "    \n",
    "    f_cdf = ( np.cumsum(f) * xstep )\n",
    "    for k in range(1,len(xrange)):\n",
    "        if( f_cdf[k-1]< q and f_cdf[k]>= q ):\n",
    "            return(xrange[k])\n",
    "    # return nan in case solution is not found\n",
    "    return(np.nan) \n",
    "\n",
    "def SI_from_Gamma_distr(a,b,ndays):\n",
    "    \"\"\"\n",
    "    Return an array of serial interval values sampled from\n",
    "    Gamma(a,b) with days from 0 to ndays\n",
    "    \"\"\"\n",
    "    return( gamma_pdf(a,b,np.arange(0,ndays+1) ) )\n",
    "    \n",
    "def Lambda_from_SI(incidence, wSI ):\n",
    "    \"\"\"\n",
    "    Compute Lambda from incidence data and serial interval data.\n",
    "    'incidence' and 'wSI' are both numpy arrays.\n",
    "    Returns numpy array with values of Lambda.\n",
    "    \"\"\"\n",
    "    # cast to numpy array if input is list\n",
    "    if type(incidence) is list:\n",
    "        print(\"c\")\n",
    "        incidence = np.array(incidence)\n",
    "    if type(wSI) is list:\n",
    "        print(\"c\")\n",
    "        wSI = np.array(wSI)\n",
    "\n",
    "    # initialize Lambda array\n",
    "    Lambda = np.zeros(incidence.shape[0])\n",
    "    \n",
    "    for t in range( incidence.shape[0] ):\n",
    "        I_times_w = 0\n",
    "        for j in range(max(t-wSI.shape[0]+1,0), t):    \n",
    "            I_times_w += incidence[j] * wSI[t-j]\n",
    "            \n",
    "        Lambda[t] = round(I_times_w,3)\n",
    "        \n",
    "    return( Lambda )"
   ]
  },
  {
   "cell_type": "markdown",
   "metadata": {},
   "source": [
    "# Input Data"
   ]
  },
  {
   "cell_type": "code",
   "execution_count": 3,
   "metadata": {
    "ExecuteTime": {
     "end_time": "2020-05-03T17:08:52.042379Z",
     "start_time": "2020-05-03T17:08:52.037731Z"
    },
    "collapsed": true
   },
   "outputs": [],
   "source": [
    "# SERIAL INTERVAL (SI) DATA\n",
    "# parameters of Serial Interval Gamma-distribution for Covid-19 from Cereda et al.\n",
    "SI_shape  = 1.87     \n",
    "SI_shape_sd = 0.26 # std on SI_shape\n",
    "SI_scale  = 1/0.28   \n",
    "SI_scale_sd = 0.04*(SI_scale**2) # std on SI_scale\n",
    "SI_days = 20         "
   ]
  },
  {
   "cell_type": "code",
   "execution_count": 4,
   "metadata": {},
   "outputs": [
    {
     "data": {
      "text/html": [
       "<div>\n",
       "<style scoped>\n",
       "    .dataframe tbody tr th:only-of-type {\n",
       "        vertical-align: middle;\n",
       "    }\n",
       "\n",
       "    .dataframe tbody tr th {\n",
       "        vertical-align: top;\n",
       "    }\n",
       "\n",
       "    .dataframe thead th {\n",
       "        text-align: right;\n",
       "    }\n",
       "</style>\n",
       "<table border=\"1\" class=\"dataframe\">\n",
       "  <thead>\n",
       "    <tr style=\"text-align: right;\">\n",
       "      <th></th>\n",
       "      <th>time</th>\n",
       "      <th>Incid</th>\n",
       "    </tr>\n",
       "  </thead>\n",
       "  <tbody>\n",
       "    <tr>\n",
       "      <th>0</th>\n",
       "      <td>2020-01-31</td>\n",
       "      <td>3</td>\n",
       "    </tr>\n",
       "    <tr>\n",
       "      <th>1</th>\n",
       "      <td>2020-02-22</td>\n",
       "      <td>14</td>\n",
       "    </tr>\n",
       "    <tr>\n",
       "      <th>2</th>\n",
       "      <td>2020-02-23</td>\n",
       "      <td>62</td>\n",
       "    </tr>\n",
       "    <tr>\n",
       "      <th>3</th>\n",
       "      <td>2020-02-24</td>\n",
       "      <td>53</td>\n",
       "    </tr>\n",
       "    <tr>\n",
       "      <th>4</th>\n",
       "      <td>2020-02-25</td>\n",
       "      <td>97</td>\n",
       "    </tr>\n",
       "    <tr>\n",
       "      <th>...</th>\n",
       "      <td>...</td>\n",
       "      <td>...</td>\n",
       "    </tr>\n",
       "    <tr>\n",
       "      <th>73</th>\n",
       "      <td>2020-05-04</td>\n",
       "      <td>1389</td>\n",
       "    </tr>\n",
       "    <tr>\n",
       "      <th>74</th>\n",
       "      <td>2020-05-05</td>\n",
       "      <td>1221</td>\n",
       "    </tr>\n",
       "    <tr>\n",
       "      <th>75</th>\n",
       "      <td>2020-05-06</td>\n",
       "      <td>1075</td>\n",
       "    </tr>\n",
       "    <tr>\n",
       "      <th>76</th>\n",
       "      <td>2020-05-07</td>\n",
       "      <td>1444</td>\n",
       "    </tr>\n",
       "    <tr>\n",
       "      <th>77</th>\n",
       "      <td>2020-05-08</td>\n",
       "      <td>1401</td>\n",
       "    </tr>\n",
       "  </tbody>\n",
       "</table>\n",
       "<p>78 rows × 2 columns</p>\n",
       "</div>"
      ],
      "text/plain": [
       "          time  Incid\n",
       "0   2020-01-31      3\n",
       "1   2020-02-22     14\n",
       "2   2020-02-23     62\n",
       "3   2020-02-24     53\n",
       "4   2020-02-25     97\n",
       "..         ...    ...\n",
       "73  2020-05-04   1389\n",
       "74  2020-05-05   1221\n",
       "75  2020-05-06   1075\n",
       "76  2020-05-07   1444\n",
       "77  2020-05-08   1401\n",
       "\n",
       "[78 rows x 2 columns]"
      ]
     },
     "execution_count": 4,
     "metadata": {},
     "output_type": "execute_result"
    }
   ],
   "source": [
    "# INCIDENCE DATA \n",
    "# Load incidence data from file\n",
    "data = pd.read_csv('Italy.csv', sep = \",\")\n",
    "data"
   ]
  },
  {
   "cell_type": "markdown",
   "metadata": {},
   "source": [
    "# Posterior distribution via Bayesian updating"
   ]
  },
  {
   "cell_type": "code",
   "execution_count": 5,
   "metadata": {
    "collapsed": true
   },
   "outputs": [],
   "source": [
    "# SETTINGS\n",
    "DR = 0.01         # Delta Rt (step for discretizing Rt)\n",
    "epsilon = 1e-10   # regularizer for logarithms\n",
    "tau = 7           # time window length\n",
    "\n",
    "Incid = data.Incid \n",
    "Rrange = np.arange(DR,50+DR,DR)\n",
    "prior = uniform_pdf(0,40, Rrange)"
   ]
  },
  {
   "cell_type": "markdown",
   "metadata": {},
   "source": [
    "## Reported cases only and fixed Serial Interval distribution"
   ]
  },
  {
   "cell_type": "code",
   "execution_count": 6,
   "metadata": {},
   "outputs": [],
   "source": [
    "Rt_base = []       # list of Rt with reported cases only and fixed SI distribution\n",
    "\n",
    "wSI = SI_from_Gamma_distr(SI_shape, SI_scale, 20)\n",
    "Lambda = Lambda_from_SI(Incid, wSI)\n",
    "\n",
    "for t in range(tau+1, Incid.shape[0]):\n",
    "    posterior = prior\n",
    "    loglkl = np.zeros(Rrange.shape[0])\n",
    "    \n",
    "    for k in range(t-tau,t):\n",
    "        loglkl += ( -Rrange*Lambda[k] \n",
    "                     + Incid[k]*np.log(Rrange/Rrange.max()) )\n",
    "        loglkl = loglkl - np.max(loglkl)\n",
    "        \n",
    "    posterior = compute_posterior(prior,np.exp(loglkl), DR) \n",
    "    if posterior is None:\n",
    "        break   \n",
    "\n",
    "    mean = (np.sum(Rrange*(posterior))*DR )\n",
    "    Rt_base.append(mean)"
   ]
  },
  {
   "cell_type": "code",
   "execution_count": 11,
   "metadata": {},
   "outputs": [
    {
     "data": {
      "image/png": "[encoded data removed]",
      "text/plain": [
       "<Figure size 432x288 with 1 Axes>"
      ]
     },
     "metadata": {},
     "output_type": "display_data"
    }
   ],
   "source": [
    "fig, ax = plt.subplots()\n",
    "\n",
    "ax.plot(data.time[tau+1:],Rt_base, ls='--', c='black')\n",
    "ax.axhline(1, ls=':', c='red',lw=2.5)\n",
    "\n",
    "ax.xaxis.set_minor_locator(plt.MultipleLocator(1))\n",
    "ax.xaxis.set_major_locator(plt.MaxNLocator(10))\n",
    "plt.gcf().autofmt_xdate()\n",
    "ax.set_ylim([0,10])\n",
    "ax.set_ylabel(\"Effective Reproduction Number $R_t$\")\n",
    "\n",
    "plt.show()"
   ]
  },
  {
   "cell_type": "markdown",
   "metadata": {},
   "source": [
    "## Reported cases only and marginalized over Serial Interval"
   ]
  },
  {
   "cell_type": "code",
   "execution_count": 8,
   "metadata": {
    "ExecuteTime": {
     "end_time": "2020-05-07T10:31:33.031517Z",
     "start_time": "2020-05-07T10:30:22.005012Z"
    }
   },
   "outputs": [],
   "source": [
    "Rt_mSI = []  # list of Rt with reported cases only and marginalized over SI\n",
    "\n",
    "for t in range(tau+1, Incid.shape[0]):\n",
    "    \n",
    "    marg_post = np.zeros(Rrange.shape[0])\n",
    "    \n",
    "    for serialint_shape in np.linspace( SI_shape - 3*SI_shape_sd,\n",
    "                                        SI_shape + 3*SI_shape_sd,\n",
    "                                        num=4 ):\n",
    "\n",
    "            prob_serialint_shape = stats.norm.pdf(serialint_shape,\n",
    "                                                  loc=SI_shape, scale=SI_shape_sd)\n",
    "\n",
    "            for serialint_scale in np.linspace( SI_scale - 3*SI_scale_sd,\n",
    "                                                SI_scale + 3*SI_scale_sd,\n",
    "                                                num=4 ):\n",
    "\n",
    "                prob_serialint_scale = stats.norm.pdf(serialint_scale,\n",
    "                                                      loc=SI_scale, scale=SI_scale_sd)\n",
    "                 \n",
    "                wSI_m = SI_from_Gamma_distr(serialint_shape, serialint_scale, tau+1)                \n",
    "                Lambda = Lambda_from_SI(Incid, wSI_m)\n",
    "                loglkl = np.zeros(Rrange.shape[0])            \n",
    "                \n",
    "                for k in range(t-tau,t):    \n",
    "                    q1 = gamma_regularized( Incid[k]+1, Rrange*Lambda[k])  \n",
    "                    q2 = gamma_regularized( Incid[k], Rrange*Lambda[k])            \n",
    "                    loglkl += np.log(q1-q2+epsilon)                              \n",
    "                    loglkl = loglkl - np.max(loglkl)\n",
    "                                           \n",
    "                posterior = compute_posterior(prior,np.exp(loglkl), DR)                \n",
    "                if posterior is None:                    \n",
    "                    break  \n",
    "                    \n",
    "                # multiply by probabilities of nuisance parameters\n",
    "                posterior *= (  prob_serialint_shape * prob_serialint_scale )\n",
    "                \n",
    "                # add to marginalized posterior\n",
    "                marg_post += normalize(posterior,DR)\n",
    "                if marg_post is None:                      \n",
    "                    break  \n",
    "    \n",
    "    # normalize\n",
    "    marg_post = normalize(marg_post,DR)\n",
    "    if marg_post is None: \n",
    "        break      \n",
    "    \n",
    "    mean = (np.sum(Rrange*(marg_post))*DR )\n",
    "    Rt_mSI.append(mean)"
   ]
  },
  {
   "cell_type": "code",
   "execution_count": 10,
   "metadata": {},
   "outputs": [
    {
     "data": {
      "image/png": "[encoded data removed]",
      "text/plain": [
       "<Figure size 432x288 with 1 Axes>"
      ]
     },
     "metadata": {},
     "output_type": "display_data"
    }
   ],
   "source": [
    "fig, ax = plt.subplots()\n",
    "\n",
    "ax.plot(data.time[tau+1:],Rt_mSI, ls='-.', c='green')\n",
    "ax.axhline(1, ls=':', c='red',lw=2.5)\n",
    "\n",
    "ax.xaxis.set_minor_locator(plt.MultipleLocator(1))\n",
    "ax.xaxis.set_major_locator(plt.MaxNLocator(10))\n",
    "plt.gcf().autofmt_xdate()\n",
    "ax.set_ylim([0,10])\n",
    "ax.set_ylabel(\"Effective Reproduction Number $R_t$\")\n",
    "\n",
    "plt.show()"
   ]
  },
  {
   "cell_type": "markdown",
   "metadata": {},
   "source": [
    "## Ful marginalization over undetected cases and Serial Interval \n",
    "## (it takes approx 3 mins to run)"
   ]
  },
  {
   "cell_type": "code",
   "execution_count": 12,
   "metadata": {},
   "outputs": [],
   "source": [
    "Rt_full = []       # list of Rt fully marginalized over undetected cases and SI \n",
    "lowerCI = []       # lower CrI with undetected\n",
    "upperCI = []       # upper CrI with undetected\n",
    "\n",
    "for t in range(tau+1, Incid.shape[0]):\n",
    "    \n",
    "    marg_post = np.zeros(Rrange.shape[0])\n",
    "    \n",
    "    for c_U in np.linspace(0,2,num=10):    \n",
    "\n",
    "        prob_cu = 1.0 # uniform\n",
    "        \n",
    "        for serialint_shape in np.linspace( SI_shape - 3*SI_shape_sd,\n",
    "                                            SI_shape + 3*SI_shape_sd,\n",
    "                                            num=4 ):\n",
    "\n",
    "            prob_serialint_shape = stats.norm.pdf(serialint_shape,\n",
    "                                                  loc=SI_shape, scale=SI_shape_sd)\n",
    "\n",
    "            for serialint_scale in np.linspace( SI_scale - 3*SI_scale_sd,\n",
    "                                                SI_scale + 3*SI_scale_sd,\n",
    "                                                num=4 ):\n",
    "\n",
    "                prob_serialint_scale = stats.norm.pdf(serialint_scale,\n",
    "                                                      loc=SI_scale, scale=SI_scale_sd)\n",
    "                \n",
    "                \n",
    "                wSI = SI_from_Gamma_distr(serialint_shape, serialint_scale, tau+1)                \n",
    "                Lambda = Lambda_from_SI(Incid, wSI)\n",
    "            \n",
    "                loglkl = np.zeros(Rrange.shape[0])            \n",
    "                \n",
    "                for k in range(t-tau,t):    \n",
    "                    \n",
    "                    Q1 = gamma_regularized( (1+c_U)*Incid[k]+1, Rrange*Lambda[k]) \n",
    "                    Q2 = gamma_regularized( Incid[k], Rrange*Lambda[k])           \n",
    "                    loglkl += np.log(Q1-Q2+epsilon)                                \n",
    "                    loglkl = loglkl - np.max(loglkl)                              \n",
    "                    \n",
    "                posterior = compute_posterior(prior, np.exp(loglkl), DR)                \n",
    "                \n",
    "                if posterior is None:\n",
    "                    break  \n",
    "                # multiply by probabilities of nuisance parameters\n",
    "                posterior *= ( prob_cu * prob_serialint_shape * prob_serialint_scale )\n",
    "                \n",
    "                # add to marginalized posterior\n",
    "                marg_post += normalize(posterior,DR)\n",
    "                if marg_post is None:                     \n",
    "                    break  \n",
    "    \n",
    "    # normalize\n",
    "    marg_post = normalize(marg_post,DR)\n",
    "    if marg_post is None: \n",
    "        break      \n",
    "    \n",
    "    mean = (np.sum(Rrange*(marg_post))*DR )\n",
    "    Rt_full.append(mean)\n",
    "    \n",
    "    # 95% central credible interval\n",
    "    lowerCI.append( percentile(marg_post, 0.025, Rrange, DR) )\n",
    "    upperCI.append( percentile(marg_post, 0.975, Rrange, DR) )   "
   ]
  },
  {
   "cell_type": "code",
   "execution_count": 51,
   "metadata": {},
   "outputs": [
    {
     "data": {
      "image/png": "[encoded data removed]",
      "text/plain": [
       "<Figure size 432x288 with 1 Axes>"
      ]
     },
     "metadata": {},
     "output_type": "display_data"
    }
   ],
   "source": [
    "fig, ax = plt.subplots()\n",
    "\n",
    "ax.plot(data.time[tau+1:],Rt_full, c='blue')\n",
    "ax.axhline(1, ls=':', c='red',lw=2.5)\n",
    "\n",
    "ax.xaxis.set_minor_locator(plt.MultipleLocator(1))\n",
    "ax.xaxis.set_major_locator(plt.MaxNLocator(10))\n",
    "plt.gcf().autofmt_xdate()\n",
    "ax.set_ylim([0,10])\n",
    "ax.set_ylabel(\"Effective Reproduction Number $R_t$\")\n",
    "\n",
    "plt.show()"
   ]
  },
  {
   "cell_type": "markdown",
   "metadata": {
    "heading_collapsed": true
   },
   "source": [
    "## Combined plot"
   ]
  },
  {
   "cell_type": "code",
   "execution_count": 50,
   "metadata": {
    "hidden": true
   },
   "outputs": [
    {
     "data": {
      "image/png": "[encoded data removed]",
      "text/plain": [
       "<Figure size 432x288 with 1 Axes>"
      ]
     },
     "metadata": {},
     "output_type": "display_data"
    }
   ],
   "source": [
    "fig, ax=plt.subplots()\n",
    "\n",
    "ax.plot(data.time[tau+1:],Rt_base, ls='--', c='black', label='reported cases only and fixed SI')\n",
    "ax.plot(data.time[tau+1:],Rt_mSI, ls='-.', c='green', label='reported cases only with marginalized SI')\n",
    "ax.plot(data.time[tau+1:],Rt_full, c='blue', label='full marginalization over undetected and SI')\n",
    "ax.axhline(1, ls=':', c='red',lw=2.5)\n",
    "\n",
    "ax.xaxis.set_minor_locator(plt.MultipleLocator(1))\n",
    "ax.xaxis.set_major_locator(plt.MaxNLocator(10))\n",
    "plt.gcf().autofmt_xdate()\n",
    "ax.set_ylim([0,10])\n",
    "ax.set_ylabel(\"Effective Reproduction Number $R_t$\")\n",
    "\n",
    "plt.legend()\n",
    "plt.show()"
   ]
  },
  {
   "cell_type": "code",
   "execution_count": null,
   "metadata": {
    "collapsed": true,
    "hidden": true
   },
   "outputs": [],
   "source": []
  }
 ],
 "metadata": {
  "kernelspec": {
   "display_name": "Python 3",
   "language": "python",
   "name": "python3"
  },
  "language_info": {
   "codemirror_mode": {
    "name": "ipython",
    "version": 3
   },
   "file_extension": ".py",
   "mimetype": "text/x-python",
   "name": "python",
   "nbconvert_exporter": "python",
   "pygments_lexer": "ipython3",
   "version": "3.6.6"
  },
  "notify_time": "5",
  "toc": {
   "base_numbering": 1,
   "nav_menu": {},
   "number_sections": false,
   "sideBar": true,
   "skip_h1_title": false,
   "title_cell": "Table of Contents",
   "title_sidebar": "Contents",
   "toc_cell": false,
   "toc_position": {
    "height": "calc(100% - 180px)",
    "left": "10px",
    "top": "150px",
    "width": "165px"
   },
   "toc_section_display": true,
   "toc_window_display": true
  },
  "widgets": {
   "application/vnd.jupyter.widget-state+json": {
    "state": {},
    "version_major": 2,
    "version_minor": 0
   }
  }
 },
 "nbformat": 4,
 "nbformat_minor": 2
}
